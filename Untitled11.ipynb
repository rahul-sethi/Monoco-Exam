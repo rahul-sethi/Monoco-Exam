{
 "cells": [
  {
   "cell_type": "code",
   "execution_count": 4,
   "metadata": {},
   "outputs": [],
   "source": [
    "import pandas as pd\n",
    "import os"
   ]
  },
  {
   "cell_type": "code",
   "execution_count": 5,
   "metadata": {},
   "outputs": [
    {
     "data": {
      "text/plain": [
       "'C:\\\\Users\\\\rahul'"
      ]
     },
     "execution_count": 5,
     "metadata": {},
     "output_type": "execute_result"
    }
   ],
   "source": [
    "os.getcwd()"
   ]
  },
  {
   "cell_type": "code",
   "execution_count": 6,
   "metadata": {},
   "outputs": [],
   "source": [
    "data = pd.read_csv(\"Desktop/Monoco/data.csv.csv\")"
   ]
  },
  {
   "cell_type": "code",
   "execution_count": 7,
   "metadata": {},
   "outputs": [
    {
     "data": {
      "text/html": [
       "<div>\n",
       "<style scoped>\n",
       "    .dataframe tbody tr th:only-of-type {\n",
       "        vertical-align: middle;\n",
       "    }\n",
       "\n",
       "    .dataframe tbody tr th {\n",
       "        vertical-align: top;\n",
       "    }\n",
       "\n",
       "    .dataframe thead th {\n",
       "        text-align: right;\n",
       "    }\n",
       "</style>\n",
       "<table border=\"1\" class=\"dataframe\">\n",
       "  <thead>\n",
       "    <tr style=\"text-align: right;\">\n",
       "      <th></th>\n",
       "      <th>ts</th>\n",
       "      <th>user_id</th>\n",
       "      <th>country_id</th>\n",
       "      <th>site_id</th>\n",
       "    </tr>\n",
       "  </thead>\n",
       "  <tbody>\n",
       "    <tr>\n",
       "      <th>count</th>\n",
       "      <td>3553</td>\n",
       "      <td>3553</td>\n",
       "      <td>3553</td>\n",
       "      <td>3553</td>\n",
       "    </tr>\n",
       "    <tr>\n",
       "      <th>unique</th>\n",
       "      <td>3538</td>\n",
       "      <td>1916</td>\n",
       "      <td>7</td>\n",
       "      <td>8</td>\n",
       "    </tr>\n",
       "    <tr>\n",
       "      <th>top</th>\n",
       "      <td>2019-02-03 20:00:34</td>\n",
       "      <td>LC3A59</td>\n",
       "      <td>TL6</td>\n",
       "      <td>5NPAU</td>\n",
       "    </tr>\n",
       "    <tr>\n",
       "      <th>freq</th>\n",
       "      <td>3</td>\n",
       "      <td>149</td>\n",
       "      <td>1449</td>\n",
       "      <td>1614</td>\n",
       "    </tr>\n",
       "  </tbody>\n",
       "</table>\n",
       "</div>"
      ],
      "text/plain": [
       "                         ts user_id country_id site_id\n",
       "count                  3553    3553       3553    3553\n",
       "unique                 3538    1916          7       8\n",
       "top     2019-02-03 20:00:34  LC3A59        TL6   5NPAU\n",
       "freq                      3     149       1449    1614"
      ]
     },
     "execution_count": 7,
     "metadata": {},
     "output_type": "execute_result"
    }
   ],
   "source": [
    "data.describe()"
   ]
  },
  {
   "cell_type": "code",
   "execution_count": 9,
   "metadata": {},
   "outputs": [],
   "source": [
    "bdv= data[data.country_id=='BDV']"
   ]
  },
  {
   "cell_type": "code",
   "execution_count": 20,
   "metadata": {},
   "outputs": [],
   "source": [
    "bdvsites = bdv.groupby(['site_id'])"
   ]
  },
  {
   "cell_type": "code",
   "execution_count": 24,
   "metadata": {},
   "outputs": [
    {
     "data": {
      "text/plain": [
       "site_id\n",
       "3POLC      2\n",
       "5NPAU    544\n",
       "N0OTG     90\n",
       "Name: user_id, dtype: int64"
      ]
     },
     "execution_count": 24,
     "metadata": {},
     "output_type": "execute_result"
    }
   ],
   "source": [
    "bdvsites['user_id'].nunique()"
   ]
  },
  {
   "cell_type": "code",
   "execution_count": 28,
   "metadata": {
    "scrolled": false
   },
   "outputs": [],
   "source": [
    "q2 = data[(data.ts>=\"2019-02-03 00:00:00\") & (data.ts<=\"2019-02-04 23:59:59\")]"
   ]
  },
  {
   "cell_type": "code",
   "execution_count": 33,
   "metadata": {},
   "outputs": [],
   "source": [
    "sites = q2.site_id.unique()"
   ]
  },
  {
   "cell_type": "code",
   "execution_count": 40,
   "metadata": {},
   "outputs": [
    {
     "name": "stdout",
     "output_type": "stream",
     "text": [
      "('LC3C7E', '3POLC', 15)\n",
      "('LC3A59', 'N0OTG', 26)\n",
      "('LC06C3', 'N0OTG', 25)\n",
      "('LC3C9D', 'N0OTG', 17)\n"
     ]
    }
   ],
   "source": [
    "site_users = {}\n",
    "for site in sites:\n",
    "    if len(q2[q2.site_id==site])>10:\n",
    "        site_data = q2[q2.site_id==site]\n",
    "        users = site_data.user_id.unique()\n",
    "        for user in users:\n",
    "            if len(site_data[site_data.user_id==user]) > 10:\n",
    "                print((user, site, len(site_data[site_data.user_id==user])))"
   ]
  },
  {
   "cell_type": "code",
   "execution_count": 39,
   "metadata": {},
   "outputs": [
    {
     "data": {
      "text/plain": [
       "{'LC06C3': 'N0OTG', 'LC3A59': 'N0OTG', 'LC3C7E': '3POLC', 'LC3C9D': 'N0OTG'}"
      ]
     },
     "execution_count": 39,
     "metadata": {},
     "output_type": "execute_result"
    }
   ],
   "source": [
    "site_users"
   ]
  },
  {
   "cell_type": "code",
   "execution_count": 64,
   "metadata": {},
   "outputs": [],
   "source": [
    "site_last = {}\n",
    "for site in sites:\n",
    "    site_data = data[data.site_id==site]\n",
    "    users = data.user_id.unique()\n",
    "    for user in users:\n",
    "        user_visit = data[data.user_id==user].reset_index()\n",
    "        user_last_visit = user_visit.iloc[len(user_visit)-1]\n",
    "        if user_last_visit.site_id == site:\n",
    "            if site in site_last:\n",
    "                site_last[site].add(user)\n",
    "            else:\n",
    "                site_last[site] = set([user])"
   ]
  },
  {
   "cell_type": "code",
   "execution_count": 65,
   "metadata": {},
   "outputs": [
    {
     "name": "stdout",
     "output_type": "stream",
     "text": [
      "('3POLC', 28)\n",
      "('N0OTG', 561)\n",
      "('QGO3G', 289)\n",
      "('5NPAU', 992)\n",
      "('GVOFK', 42)\n",
      "('JSUUP', 1)\n"
     ]
    }
   ],
   "source": [
    "for k,v in site_last.items():\n",
    "    print((k, len(v)))"
   ]
  },
  {
   "cell_type": "code",
   "execution_count": 46,
   "metadata": {},
   "outputs": [
    {
     "data": {
      "text/plain": [
       "array(['3POLC', 'N0OTG', 'QGO3G', '5NPAU', 'GVOFK', 'JSUUP'], dtype=object)"
      ]
     },
     "execution_count": 46,
     "metadata": {},
     "output_type": "execute_result"
    }
   ],
   "source": [
    "sites"
   ]
  },
  {
   "cell_type": "code",
   "execution_count": 68,
   "metadata": {},
   "outputs": [],
   "source": [
    "users = data.user_id.unique()\n",
    "count = 0\n",
    "for user in users:\n",
    "    user_visit = data[data.user_id==user].reset_index()\n",
    "    user_first_visit = user_visit.iloc[0]\n",
    "    user_last_visit = user_visit.iloc[len(user_visit)-1]\n",
    "    if user_last_visit.site_id == user_first_visit.site_id:\n",
    "        count += 1"
   ]
  },
  {
   "cell_type": "code",
   "execution_count": 69,
   "metadata": {},
   "outputs": [
    {
     "data": {
      "text/plain": [
       "1670"
      ]
     },
     "execution_count": 69,
     "metadata": {},
     "output_type": "execute_result"
    }
   ],
   "source": [
    "count"
   ]
  },
  {
   "cell_type": "code",
   "execution_count": 70,
   "metadata": {},
   "outputs": [
    {
     "data": {
      "text/plain": [
       "1916"
      ]
     },
     "execution_count": 70,
     "metadata": {},
     "output_type": "execute_result"
    }
   ],
   "source": []
  },
  {
   "cell_type": "code",
   "execution_count": null,
   "metadata": {},
   "outputs": [],
   "source": []
  }
 ],
 "metadata": {
  "kernelspec": {
   "display_name": "Python 3",
   "language": "python",
   "name": "python3"
  },
  "language_info": {
   "codemirror_mode": {
    "name": "ipython",
    "version": 3
   },
   "file_extension": ".py",
   "mimetype": "text/x-python",
   "name": "python",
   "nbconvert_exporter": "python",
   "pygments_lexer": "ipython3",
   "version": "3.6.4"
  }
 },
 "nbformat": 4,
 "nbformat_minor": 2
}
